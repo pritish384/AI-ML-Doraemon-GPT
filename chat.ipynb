{
 "cells": [
  {
   "cell_type": "code",
   "execution_count": 1,
   "metadata": {},
   "outputs": [],
   "source": [
    "import gpt_2_simple as gpt2"
   ]
  },
  {
   "cell_type": "code",
   "execution_count": 2,
   "metadata": {},
   "outputs": [
    {
     "name": "stdout",
     "output_type": "stream",
     "text": [
      "Loading checkpoint checkpoint\\run1\\model-1000\n",
      "INFO:tensorflow:Restoring parameters from checkpoint\\run1\\model-1000\n"
     ]
    }
   ],
   "source": [
    "sess = gpt2.start_tf_sess()\n",
    "gpt2.load_gpt2(sess, run_name='run1')"
   ]
  },
  {
   "cell_type": "code",
   "execution_count": 3,
   "metadata": {},
   "outputs": [
    {
     "name": "stdout",
     "output_type": "stream",
     "text": [
      "who has crush on shizuka? (Romance in Doraemon)\", \"Romance in Doraemon's Heart\", \"Nobita's the Night Before a Wedding\", and \"Goodbye, Doraemon ...\" into a new complete story, from the first time Doraemon came to Nobita's house to Doraemon bidding farewell to Nobita.[110][112] The film was a box office success, grossing $183.4 million worldwide.[113] A sequel, Stand by Me Doraemon 2, also directed by Yamazaki and Yagi, was released on November 20, 2020.[114]\n",
      "\n",
      "Several Doraemon short films were produced and released between 1989 and 2004.[107] These include 2112: The Birth of Doraemon, a film about the life of Doraemon from birth before coming to Nobita;[115] Doraemon: Nobita's the Night Before a Wedding, a film about the events related to the marriage of Nobita and Shizuka;[116] The Day When I Was Born[117] and Doraemon: A Grandmother's Recollections,[118] the films about the relationship between Nobita and his parents along with his grandmother. Other short films focus on\n",
      "None\n"
     ]
    }
   ],
   "source": [
    "def dorabot(input):\n",
    "    a = gpt2.generate(sess,\n",
    "                length=250,\n",
    "                temperature=0.7,\n",
    "                prefix=input,\n",
    "                nsamples=1,\n",
    "                batch_size=1,\n",
    "                include_prefix=False,\n",
    "                \n",
    "                )\n",
    "    return a\n",
    "\n",
    "\n",
    "print(dorabot(\"who has crush on shizuka?\"))"
   ]
  }
 ],
 "metadata": {
  "kernelspec": {
   "display_name": "Python 3",
   "language": "python",
   "name": "python3"
  },
  "language_info": {
   "codemirror_mode": {
    "name": "ipython",
    "version": 3
   },
   "file_extension": ".py",
   "mimetype": "text/x-python",
   "name": "python",
   "nbconvert_exporter": "python",
   "pygments_lexer": "ipython3",
   "version": "3.11.2"
  },
  "orig_nbformat": 4
 },
 "nbformat": 4,
 "nbformat_minor": 2
}
